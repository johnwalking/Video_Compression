{
 "cells": [
  {
   "cell_type": "code",
   "execution_count": 123,
   "metadata": {},
   "outputs": [],
   "source": [
    "import numpy as np\n",
    "import cv2\n",
    "import os \n",
    "import io"
   ]
  },
  {
   "cell_type": "code",
   "execution_count": 135,
   "metadata": {},
   "outputs": [],
   "source": [
    "class Node(object):\n",
    "    def __init__(self,name=None,value=None):\n",
    "        self._name=name\n",
    "        self._value=value\n",
    "        self._left=None\n",
    "        self._right=None"
   ]
  },
  {
   "cell_type": "code",
   "execution_count": 162,
   "metadata": {},
   "outputs": [],
   "source": [
    "class HuffmanTree():\n",
    "\n",
    "    #根据Huffman树的思想：以节点为基础，反向建立Huffman树\n",
    "    def __init__(self,char_weights):\n",
    "        print(char_weights)\n",
    "        self.Leav=[ Node(part[0],part[1]) for part in char_weights ]  #根据输入的字符及其频数生成节点\n",
    "        while len(self.Leav) != 1:    \n",
    "\n",
    "            self.Leav.sort(key=lambda node:node._value,reverse=True)\n",
    "            c = Node(value=(self.Leav[-1]._value + self.Leav[-2]._value))\n",
    "            c._left=self.Leav.pop(-1)\n",
    "            c._right=self.Leav.pop(-1)\n",
    "            self.Leav.append(c)\n",
    "            \n",
    "        self.root=self.Leav[0]\n",
    "        self.Buffer=list(range(100)) \n",
    "        self.dic = dict()\n",
    "    def pre(self,tree,length):\n",
    "        node=tree\n",
    "        if (not node):\n",
    "            return\n",
    "        elif node._name:\n",
    "            print (str(node._name) + '    encoding:',end=''),\n",
    "            ans = \"\"\n",
    "            for i in range(length):\n",
    "                print (self.Buffer[i],end='')\n",
    "                ans += str(self.Buffer[i])\n",
    "            self.dic[node._name] = ans\n",
    "            print ('\\n')\n",
    "            return\n",
    "        self.Buffer[length]=0\n",
    "        self.pre(node._left,length+1)\n",
    "        self.Buffer[length]=1\n",
    "        self.pre(node._right,length+1)\n",
    "     #生成哈夫曼编码   \n",
    "    def get_code(self):\n",
    "        self.pre(self.root,0)\n",
    "    def return_value(self,value):\n",
    "        return self.dic[value]"
   ]
  },
  {
   "cell_type": "code",
   "execution_count": 166,
   "metadata": {},
   "outputs": [
    {
     "name": "stdout",
     "output_type": "stream",
     "text": [
      "[[1111, 2103], [2222, 13969], [3333, 17479], [4444, 11499], [5555, 27768]]\n",
      "5555    encoding:0\n",
      "\n",
      "3333    encoding:10\n",
      "\n",
      "1111    encoding:1100\n",
      "\n",
      "4444    encoding:1101\n",
      "\n",
      "2222    encoding:111\n",
      "\n",
      "[[[1100 1100 1100]\n",
      "  [   0    0    0]\n",
      "  [   0    0    0]\n",
      "  ...\n",
      "  [1101    0    0]\n",
      "  [1101    0    0]\n",
      "  [1101    0    0]]\n",
      "\n",
      " [[1100 1100 1100]\n",
      "  [   0    0 1101]\n",
      "  [   0    0    0]\n",
      "  ...\n",
      "  [1101 1101 1101]\n",
      "  [1101    0    0]\n",
      "  [1101 1101    0]]\n",
      "\n",
      " [[1100 1100 1100]\n",
      "  [   0    0 1101]\n",
      "  [   0    0   10]\n",
      "  ...\n",
      "  [  10   10   10]\n",
      "  [1101    0    0]\n",
      "  [1101 1101    0]]\n",
      "\n",
      " ...\n",
      "\n",
      " [[1100 1100 1100]\n",
      "  [  10   10   10]\n",
      "  [1101    0    0]\n",
      "  ...\n",
      "  [  10 1101    0]\n",
      "  [  10 1101 1101]\n",
      "  [  10   10 1101]]\n",
      "\n",
      " [[1100 1100 1100]\n",
      "  [  10   10   10]\n",
      "  [1101    0    0]\n",
      "  ...\n",
      "  [  10 1101    0]\n",
      "  [  10 1101    0]\n",
      "  [  10 1101    0]]\n",
      "\n",
      " [[1100 1100 1100]\n",
      "  [  10   10   10]\n",
      "  [1101    0    0]\n",
      "  ...\n",
      "  [1100   10 1101]\n",
      "  [ 111   10 1101]\n",
      "  [1100   10 1101]]]\n",
      "image1 : a= 2103 b = 13969 c = 17479 d = 11499 e = 27768\n"
     ]
    },
    {
     "data": {
      "text/plain": [
       "-1"
      ]
     },
     "execution_count": 166,
     "metadata": {},
     "output_type": "execute_result"
    }
   ],
   "source": [
    "image1 = cv2.imread('foreman_qcif_0_rgb.bmp')\n",
    "image2 = cv2.imread('foreman_qcif_1_rgb.bmp')\n",
    "image3 = cv2.imread('foreman_qcif_2_rgb.bmp')\n",
    "\n",
    "yuv1 = cv2.cvtColor(image1, cv2.COLOR_RGB2YUV_I420)\n",
    "yuv2 = cv2.cvtColor(image2, cv2.COLOR_RGB2YUV_I420)\n",
    "yuv3 = cv2.cvtColor(image3, cv2.COLOR_RGB2YUV_I420)\n",
    "\n",
    "#image11 = cv2.cvtColor(yuv1, cv2.COLOR_YUV2RGB_I420)\n",
    "#image11 = cv2.cvtColor(yuv2, cv2.COLOR_YUV2RGB_I420)\n",
    "image11 = cv2.cvtColor(yuv3, cv2.COLOR_YUV2RGB_I420)\n",
    "\n",
    "# calculate number\n",
    "a = np.count_nonzero(image11<51)\n",
    "b = np.count_nonzero(image11<102) - a\n",
    "c = np.count_nonzero(image11<153) - a - b\n",
    "d = np.count_nonzero(image11<204) - a - b - c\n",
    "e = np.count_nonzero(image11<255) - a - b - c - d\n",
    "\n",
    "image11 =  np.where(image11 > 51, image11, 1111)\n",
    "image11 =  np.where(image11 > 102, image11, 2222)\n",
    "image11 =  np.where(image11 > 153, image11, 3333)\n",
    "image11 =  np.where(image11 > 204, image11, 4444)\n",
    "image11 =  np.where(image11 > 255, image11, 5555)\n",
    "# print(image11)\n",
    "\n",
    "#build huffman \n",
    "input_dic = list()\n",
    "input_dic.append([1111,a])\n",
    "input_dic.append([2222,b])\n",
    "input_dic.append([3333,c])\n",
    "input_dic.append([4444,d])\n",
    "input_dic.append([5555,e])\n",
    "\n",
    "tree=HuffmanTree(input_dic)\n",
    "tree.get_code()\n",
    "\n",
    "image11[image11 == 1111] = tree.return_value(1111)\n",
    "image11[image11 == 2222] = tree.return_value(2222)\n",
    "image11[image11 == 3333] = tree.return_value(3333)\n",
    "image11[image11 == 4444] = tree.return_value(4444)\n",
    "image11[image11 == 5555] = tree.return_value(5555)\n",
    "\n",
    "print(image11)\n",
    "s = \"image1 : a= \" + str(a) + \" b = \" + str(b) + \" c = \" + str(c) + \" d = \" + str(d) + \" e = \" + str(e)\n",
    "print(s)\n",
    "\n",
    "\n",
    "cv2.imwrite(\"hw1_3_3.jpg\",image11)\n",
    "\n",
    "\n",
    "cv2.imshow('Input1', image1)\n",
    "cv2.imshow('Input2', image2)\n",
    "cv2.imshow('Input3', image3)\n",
    "cv2.imshow('Result1', yuv1)\n",
    "cv2.imshow('Result2', yuv2)\n",
    "cv2.imshow('Result3', yuv3)\n",
    "\n",
    "\n",
    "\n",
    "cv2.waitKey(1000)"
   ]
  },
  {
   "cell_type": "code",
   "execution_count": null,
   "metadata": {},
   "outputs": [],
   "source": []
  },
  {
   "cell_type": "code",
   "execution_count": null,
   "metadata": {},
   "outputs": [],
   "source": []
  },
  {
   "cell_type": "code",
   "execution_count": null,
   "metadata": {},
   "outputs": [],
   "source": []
  },
  {
   "cell_type": "code",
   "execution_count": null,
   "metadata": {},
   "outputs": [],
   "source": []
  },
  {
   "cell_type": "code",
   "execution_count": null,
   "metadata": {},
   "outputs": [],
   "source": []
  },
  {
   "cell_type": "code",
   "execution_count": null,
   "metadata": {},
   "outputs": [],
   "source": []
  },
  {
   "cell_type": "code",
   "execution_count": null,
   "metadata": {},
   "outputs": [],
   "source": []
  },
  {
   "cell_type": "code",
   "execution_count": 90,
   "metadata": {},
   "outputs": [],
   "source": []
  },
  {
   "cell_type": "code",
   "execution_count": 91,
   "metadata": {},
   "outputs": [],
   "source": []
  },
  {
   "cell_type": "code",
   "execution_count": null,
   "metadata": {},
   "outputs": [],
   "source": []
  },
  {
   "cell_type": "code",
   "execution_count": 25,
   "metadata": {},
   "outputs": [],
   "source": []
  },
  {
   "cell_type": "code",
   "execution_count": null,
   "metadata": {},
   "outputs": [],
   "source": []
  },
  {
   "cell_type": "code",
   "execution_count": 32,
   "metadata": {},
   "outputs": [],
   "source": []
  },
  {
   "cell_type": "code",
   "execution_count": 44,
   "metadata": {},
   "outputs": [],
   "source": []
  },
  {
   "cell_type": "code",
   "execution_count": null,
   "metadata": {},
   "outputs": [],
   "source": []
  },
  {
   "cell_type": "code",
   "execution_count": null,
   "metadata": {},
   "outputs": [],
   "source": []
  },
  {
   "cell_type": "code",
   "execution_count": null,
   "metadata": {},
   "outputs": [],
   "source": []
  }
 ],
 "metadata": {
  "kernelspec": {
   "display_name": "Python 3",
   "language": "python",
   "name": "python3"
  },
  "language_info": {
   "codemirror_mode": {
    "name": "ipython",
    "version": 3
   },
   "file_extension": ".py",
   "mimetype": "text/x-python",
   "name": "python",
   "nbconvert_exporter": "python",
   "pygments_lexer": "ipython3",
   "version": "3.7.3"
  }
 },
 "nbformat": 4,
 "nbformat_minor": 2
}
